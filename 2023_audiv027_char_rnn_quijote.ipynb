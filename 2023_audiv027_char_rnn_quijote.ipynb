{
  "cells": [
    {
      "cell_type": "markdown",
      "metadata": {
        "id": "view-in-github",
        "colab_type": "text"
      },
      "source": [
        "<a href=\"https://colab.research.google.com/github/disenoUChile/audiv027-2023-2/blob/main/2023_audiv027_char_rnn_quijote.ipynb\" target=\"_parent\"><img src=\"https://colab.research.google.com/assets/colab-badge.svg\" alt=\"Open In Colab\"/></a>"
      ]
    },
    {
      "cell_type": "markdown",
      "metadata": {
        "id": "ZUD4nbAKe_8v"
      },
      "source": [
        "fuente\n",
        "https://blog.devgenius.io/python-environment-management-d920f20ea53e"
      ]
    },
    {
      "cell_type": "code",
      "execution_count": 1,
      "metadata": {
        "colab": {
          "base_uri": "https://localhost:8080/"
        },
        "id": "18JMUFeUkBQi",
        "outputId": "53ed5f28-00d0-41db-ea38-10f1c0e28a64"
      },
      "outputs": [
        {
          "output_type": "stream",
          "name": "stdout",
          "text": [
            "Cloning into 'training-charRNN'...\n",
            "remote: Enumerating objects: 105, done.\u001b[K\n",
            "remote: Counting objects: 100% (37/37), done.\u001b[K\n",
            "remote: Compressing objects: 100% (9/9), done.\u001b[K\n",
            "remote: Total 105 (delta 31), reused 28 (delta 28), pack-reused 68\u001b[K\n",
            "Receiving objects: 100% (105/105), 33.50 KiB | 2.39 MiB/s, done.\n",
            "Resolving deltas: 100% (51/51), done.\n"
          ]
        }
      ],
      "source": [
        "# clonar repositorio de ml5.js para entrenar algoritmo char-RNN\n",
        "! git clone https://github.com/ml5js/training-charRNN"
      ]
    },
    {
      "cell_type": "code",
      "execution_count": 2,
      "metadata": {
        "colab": {
          "base_uri": "https://localhost:8080/"
        },
        "id": "F27hQCCikHlf",
        "outputId": "b0964465-0e50-4444-caeb-c4f64d19ed8f"
      },
      "outputs": [
        {
          "output_type": "stream",
          "name": "stdout",
          "text": [
            "/content/training-charRNN\n"
          ]
        }
      ],
      "source": [
        "# cd = cambiar directorio, moverse a la carpeta instalada\n",
        "%cd training-charRNN/"
      ]
    },
    {
      "cell_type": "code",
      "execution_count": 3,
      "metadata": {
        "colab": {
          "base_uri": "https://localhost:8080/"
        },
        "id": "rcpUrQmpkIIr",
        "outputId": "4c49173d-f546-4e91-f0cb-d143a956fdba"
      },
      "outputs": [
        {
          "output_type": "stream",
          "name": "stdout",
          "text": [
            "/content/training-charRNN\n"
          ]
        }
      ],
      "source": [
        "# pwd es print working directory = imprimir directorio actual\n",
        "!pwd"
      ]
    },
    {
      "cell_type": "code",
      "execution_count": 4,
      "metadata": {
        "colab": {
          "base_uri": "https://localhost:8080/"
        },
        "id": "P6MC89pLdvyN",
        "outputId": "b1113be3-69c2-40e8-a144-1519c4592838"
      },
      "outputs": [
        {
          "output_type": "stream",
          "name": "stdout",
          "text": [
            "/bin/bash: line 1: pyenv: command not found\n"
          ]
        }
      ],
      "source": [
        "!export PYENV_ROOT=\"$HOME/.pyenv\" && export PATH=\"$PYENV_ROOT/bin:$PATH\" && eval \"$(pyenv init — path)\""
      ]
    },
    {
      "cell_type": "code",
      "execution_count": 5,
      "metadata": {
        "colab": {
          "base_uri": "https://localhost:8080/"
        },
        "id": "AK92XccMdXdj",
        "outputId": "c9bf4b72-9a20-4104-ea4f-ca02ba166086"
      },
      "outputs": [
        {
          "output_type": "stream",
          "name": "stdout",
          "text": [
            "  % Total    % Received % Xferd  Average Speed   Time    Time     Time  Current\n",
            "                                 Dload  Upload   Total   Spent    Left  Speed\n",
            "100   270  100   270    0     0   1146      0 --:--:-- --:--:-- --:--:--  1148\n",
            "Cloning into '/root/.pyenv'...\n",
            "remote: Enumerating objects: 1162, done.\u001b[K\n",
            "remote: Counting objects: 100% (1162/1162), done.\u001b[K\n",
            "remote: Compressing objects: 100% (666/666), done.\u001b[K\n",
            "remote: Total 1162 (delta 674), reused 632 (delta 363), pack-reused 0\u001b[K\n",
            "Receiving objects: 100% (1162/1162), 577.97 KiB | 5.90 MiB/s, done.\n",
            "Resolving deltas: 100% (674/674), done.\n",
            "Cloning into '/root/.pyenv/plugins/pyenv-doctor'...\n",
            "remote: Enumerating objects: 11, done.\u001b[K\n",
            "remote: Counting objects: 100% (11/11), done.\u001b[K\n",
            "remote: Compressing objects: 100% (9/9), done.\u001b[K\n",
            "remote: Total 11 (delta 1), reused 5 (delta 0), pack-reused 0\u001b[K\n",
            "Receiving objects: 100% (11/11), 38.72 KiB | 2.04 MiB/s, done.\n",
            "Resolving deltas: 100% (1/1), done.\n",
            "Cloning into '/root/.pyenv/plugins/pyenv-update'...\n",
            "remote: Enumerating objects: 10, done.\u001b[K\n",
            "remote: Counting objects: 100% (10/10), done.\u001b[K\n",
            "remote: Compressing objects: 100% (6/6), done.\u001b[K\n",
            "remote: Total 10 (delta 1), reused 5 (delta 0), pack-reused 0\u001b[K\n",
            "Receiving objects: 100% (10/10), done.\n",
            "Resolving deltas: 100% (1/1), done.\n",
            "Cloning into '/root/.pyenv/plugins/pyenv-virtualenv'...\n",
            "remote: Enumerating objects: 63, done.\u001b[K\n",
            "remote: Counting objects: 100% (63/63), done.\u001b[K\n",
            "remote: Compressing objects: 100% (56/56), done.\u001b[K\n",
            "remote: Total 63 (delta 11), reused 29 (delta 0), pack-reused 0\u001b[K\n",
            "Receiving objects: 100% (63/63), 40.54 KiB | 2.38 MiB/s, done.\n",
            "Resolving deltas: 100% (11/11), done.\n",
            "\n",
            "\u001b[1mWARNING\u001b[m: seems you still have not added 'pyenv' to the load path.\n",
            "\n",
            "# Load pyenv automatically by appending\n",
            "# the following to \n",
            "~/.bash_profile if it exists, otherwise ~/.profile (for login shells)\n",
            "and ~/.bashrc (for interactive shells) :\n",
            "\n",
            "export PYENV_ROOT=\"$HOME/.pyenv\"\n",
            "command -v pyenv >/dev/null || export PATH=\"$PYENV_ROOT/bin:$PATH\"\n",
            "eval \"$(pyenv init -)\"\n",
            "\n",
            "# Restart your shell for the changes to take effect.\n",
            "\n",
            "# Load pyenv-virtualenv automatically by adding\n",
            "# the following to ~/.bashrc:\n",
            "\n",
            "eval \"$(pyenv virtualenv-init -)\"\n",
            "\n"
          ]
        }
      ],
      "source": [
        "#https://github.com/pyenv/pyenv-installer\n",
        "!curl https://pyenv.run | bash"
      ]
    },
    {
      "cell_type": "code",
      "execution_count": 6,
      "metadata": {
        "colab": {
          "base_uri": "https://localhost:8080/"
        },
        "id": "3lLZZ9fCd2s6",
        "outputId": "06acc4d2-6d03-4ae0-eff0-6ad7a305c34d"
      },
      "outputs": [
        {
          "output_type": "stream",
          "name": "stdout",
          "text": [
            "  3.3.6\n",
            "  3.6.0\n",
            "  3.6-dev\n",
            "  3.6.1\n",
            "  3.6.2\n",
            "  3.6.3\n",
            "  3.6.4\n",
            "  3.6.5\n",
            "  3.6.6\n",
            "  3.6.7\n",
            "  3.6.8\n",
            "  3.6.9\n",
            "  3.6.10\n",
            "  3.6.11\n",
            "  3.6.12\n",
            "  3.6.13\n",
            "  3.6.14\n",
            "  3.6.15\n",
            "  activepython-3.6.0\n",
            "  pypy2.7-7.3.6-src\n",
            "  pypy2.7-7.3.6\n",
            "  pypy3.6-7.0.0-src\n",
            "  pypy3.6-7.0.0\n",
            "  pypy3.6-7.1.0-src\n",
            "  pypy3.6-7.1.0\n",
            "  pypy3.6-7.1.1-src\n",
            "  pypy3.6-7.1.1\n",
            "  pypy3.6-7.2.0-src\n",
            "  pypy3.6-7.2.0\n",
            "  pypy3.6-7.3.0-src\n",
            "  pypy3.6-7.3.0\n",
            "  pypy3.6-7.3.1-src\n",
            "  pypy3.6-7.3.1\n",
            "  pypy3.6-7.3.2-src\n",
            "  pypy3.6-7.3.2\n",
            "  pypy3.6-7.3.3-src\n",
            "  pypy3.6-7.3.3\n",
            "  pypy3.7-7.3.6-src\n",
            "  pypy3.7-7.3.6\n",
            "  pypy3.8-7.3.6-src\n",
            "  pypy3.8-7.3.6\n"
          ]
        }
      ],
      "source": [
        "!export PYENV_ROOT=\"$HOME/.pyenv\" && export PATH=\"$PYENV_ROOT/bin:$PATH\" && pyenv install -list | grep \"3\\.[6]\""
      ]
    },
    {
      "cell_type": "code",
      "execution_count": 7,
      "metadata": {
        "colab": {
          "base_uri": "https://localhost:8080/"
        },
        "id": "FlOjbW8je9bo",
        "outputId": "e03c119a-4ca1-4121-e5b5-1f2332c28f6e"
      },
      "outputs": [
        {
          "output_type": "stream",
          "name": "stdout",
          "text": [
            "Downloading Python-3.6.15.tar.xz...\n",
            "-> https://www.python.org/ftp/python/3.6.15/Python-3.6.15.tar.xz\n",
            "Installing Python-3.6.15...\n",
            "patching file configure\n",
            "patching file configure.ac\n",
            "patching file Misc/NEWS.d/next/macOS/2019-06-03-05-49-49.bpo-36231.RfmW_p.rst\n",
            "patching file setup.py\n",
            "patching file setup.py\n",
            "patching file Doc/library/ctypes.rst\n",
            "patching file Lib/test/test_unicode.py\n",
            "patching file Modules/_ctypes/_ctypes.c\n",
            "patching file Modules/_ctypes/callproc.c\n",
            "patching file Modules/_ctypes/ctypes.h\n",
            "patching file setup.py\n",
            "patching file Misc/NEWS.d/next/macOS/2020-06-24-13-51-57.bpo-41100.mcHdc5.rst\n",
            "patching file configure\n",
            "patching file configure.ac\n",
            "patching file 'Misc/NEWS.d/next/Core and Builtins/2020-06-30-04-44-29.bpo-41100.PJwA6F.rst'\n",
            "patching file Modules/_decimal/libmpdec/mpdecimal.h\n",
            "patching file setup.py\n",
            "patching file Misc/NEWS.d/next/Build/2021-10-11-16-27-38.bpo-45405.iSfdW5.rst\n",
            "patching file configure\n",
            "patching file configure.ac\n",
            "patching file 'Misc/NEWS.d/next/Core and Builtins/2019-04-16-11-52-21.bpo-27987.n2_DcQ.rst'\n",
            "patching file Objects/obmalloc.c\n",
            "patching file Include/objimpl.h\n",
            "patching file 'Misc/NEWS.d/next/Core and Builtins/2019-05-15-18-28-43.bpo-27987.FaxuLy.rst'\n",
            "Installed Python-3.6.15 to /root/.pyenv/versions/3.6.15\n",
            "* system (set by /root/.pyenv/version)\n",
            "  3.6.15\n"
          ]
        }
      ],
      "source": [
        "# install python 3.6.15\n",
        "!export PYENV_ROOT=\"$HOME/.pyenv\" && export PATH=\"$PYENV_ROOT/bin:$PATH\" && pyenv install 3.6.15\n",
        "!export PYENV_ROOT=\"$HOME/.pyenv\" && export PATH=\"$PYENV_ROOT/bin:$PATH\" && pyenv versions"
      ]
    },
    {
      "cell_type": "code",
      "execution_count": 8,
      "metadata": {
        "colab": {
          "base_uri": "https://localhost:8080/"
        },
        "id": "Cl-I1bCtfM6M",
        "outputId": "3a7c9669-5bed-4680-aa27-3c1bc7016750"
      },
      "outputs": [
        {
          "output_type": "stream",
          "name": "stdout",
          "text": [
            "Looking in links: /tmp/tmp2mdpxel1\n",
            "Requirement already satisfied: setuptools in /root/.pyenv/versions/3.6.15/envs/training-charRNN/lib/python3.6/site-packages (40.6.2)\n",
            "Requirement already satisfied: pip in /root/.pyenv/versions/3.6.15/envs/training-charRNN/lib/python3.6/site-packages (18.1)\n",
            "* system (set by /root/.pyenv/version)\n",
            "  3.6.15\n",
            "  3.6.15/envs/training-charRNN\n",
            "  training-charRNN --> /root/.pyenv/versions/3.6.15/envs/training-charRNN\n"
          ]
        }
      ],
      "source": [
        "!export PYENV_ROOT=\"$HOME/.pyenv\" && export PATH=\"$PYENV_ROOT/bin:$PATH\" && mkdir -p /content/training-charRNN/ && cd /content/training-charRNN/ && pyenv virtualenv 3.6.15 training-charRNN\n",
        "!export PYENV_ROOT=\"$HOME/.pyenv\" && export PATH=\"$PYENV_ROOT/bin:$PATH\" && pyenv versions"
      ]
    },
    {
      "cell_type": "code",
      "execution_count": 9,
      "metadata": {
        "colab": {
          "base_uri": "https://localhost:8080/"
        },
        "id": "rIImYKRCgshV",
        "outputId": "eedd4215-ccac-4cff-a965-9f91e26c43cc"
      },
      "outputs": [
        {
          "output_type": "stream",
          "name": "stdout",
          "text": [
            "* system (set by /root/.pyenv/version)\n",
            "  3.6.15\n",
            "  3.6.15/envs/training-charRNN\n",
            "  training-charRNN --> /root/.pyenv/versions/3.6.15/envs/training-charRNN\n",
            "  system\n",
            "* 3.6.15 (set by /root/.pyenv/version)\n",
            "  3.6.15/envs/training-charRNN\n",
            "  training-charRNN --> /root/.pyenv/versions/3.6.15/envs/training-charRNN\n"
          ]
        }
      ],
      "source": [
        "!export PYENV_ROOT=\"$HOME/.pyenv\" && export PATH=\"$PYENV_ROOT/bin:$PATH\" && pyenv versions\n",
        "!export PYENV_ROOT=\"$HOME/.pyenv\" && export PATH=\"$PYENV_ROOT/bin:$PATH\" && pyenv global 3.6.15\n",
        "!export PYENV_ROOT=\"$HOME/.pyenv\" && export PATH=\"$PYENV_ROOT/bin:$PATH\" && pyenv versions\n"
      ]
    },
    {
      "cell_type": "code",
      "execution_count": 10,
      "metadata": {
        "colab": {
          "base_uri": "https://localhost:8080/"
        },
        "id": "gOs20Mt6iRsD",
        "outputId": "a10e8f4f-7d81-41fd-dfa2-bea1ed49bad1"
      },
      "outputs": [
        {
          "output_type": "stream",
          "name": "stdout",
          "text": [
            "Python 3.10.12\n"
          ]
        }
      ],
      "source": [
        "!export PYENV_ROOT=\"$HOME/.pyenv\" && export PATH=\"$PYENV_ROOT/bin:$PATH\" && python --version"
      ]
    },
    {
      "cell_type": "code",
      "execution_count": 11,
      "metadata": {
        "colab": {
          "base_uri": "https://localhost:8080/"
        },
        "id": "iqBfmc2Mi3Dg",
        "outputId": "ba1a491a-f701-4297-b2ca-9cbabfa781ff"
      },
      "outputs": [
        {
          "output_type": "stream",
          "name": "stdout",
          "text": [
            "pyenv: version `proyecto1' not installed\n",
            "Python 3.6.15\n"
          ]
        }
      ],
      "source": [
        "!export PYENV_ROOT=\"$HOME/.pyenv\" && export PATH=\"$PYENV_ROOT/bin:$PATH\" && pyenv local proyecto1 && pyenv which python\n",
        "!export PYENV_ROOT=\"$HOME/.pyenv\" && export PATH=\"$PYENV_ROOT/bin:$PATH\" && eval \"$(pyenv init --path)\" && pyenv local training-charRNN/ && cd /content/training-charRNN/ && python -V"
      ]
    },
    {
      "cell_type": "code",
      "execution_count": 12,
      "metadata": {
        "colab": {
          "base_uri": "https://localhost:8080/"
        },
        "id": "sHo8SvI_i-Ud",
        "outputId": "5ee6270c-d194-4c83-ae0d-8e18ab74d968"
      },
      "outputs": [
        {
          "output_type": "stream",
          "name": "stdout",
          "text": [
            "Python 3.6.15\n"
          ]
        }
      ],
      "source": [
        "!export PYENV_ROOT=\"$HOME/.pyenv\" && export PATH=\"$PYENV_ROOT/bin:$PATH\" && eval \"$(pyenv init --path)\" && pyenv local training-charRNN/ && cd /content/training-charRNN/ && python -V"
      ]
    },
    {
      "cell_type": "code",
      "execution_count": 13,
      "metadata": {
        "colab": {
          "base_uri": "https://localhost:8080/"
        },
        "id": "Xg8pOjMBjdKx",
        "outputId": "8e2761fc-78f1-432b-cd1e-dde3ba6f8a12"
      },
      "outputs": [
        {
          "output_type": "stream",
          "name": "stdout",
          "text": [
            "pyenv: version `proyecto1' not installed\n"
          ]
        }
      ],
      "source": [
        "!export PYENV_ROOT=\"$HOME/.pyenv\" && export PATH=\"$PYENV_ROOT/bin:$PATH\" && eval \"$(pyenv init --path)\" && pyenv local proyecto1 && cd /content/proyecto1 && wget https://bootstrap.pypa.io/pip/3.6/get-pip.py && python3.6 get-pip.py"
      ]
    },
    {
      "cell_type": "code",
      "execution_count": 14,
      "metadata": {
        "id": "hNhoYG7ujpE6"
      },
      "outputs": [],
      "source": [
        "# prefijo\n",
        "#!export PYENV_ROOT=\"$HOME/.pyenv\" && export PATH=\"$PYENV_ROOT/bin:$PATH\" && eval \"$(pyenv init --path)\" &&"
      ]
    },
    {
      "cell_type": "code",
      "execution_count": 15,
      "metadata": {
        "colab": {
          "base_uri": "https://localhost:8080/"
        },
        "id": "Ag-7uOEyjsBs",
        "outputId": "70277f73-a568-4743-8fb5-53262c4dfc8d"
      },
      "outputs": [
        {
          "output_type": "stream",
          "name": "stdout",
          "text": [
            "pip 18.1 from /root/.pyenv/versions/training-charRNN/lib/python3.6/site-packages/pip (python 3.6)\n"
          ]
        }
      ],
      "source": [
        "!export PYENV_ROOT=\"$HOME/.pyenv\" && export PATH=\"$PYENV_ROOT/bin:$PATH\" && eval \"$(pyenv init --path)\" && python3.6 -m pip --version"
      ]
    },
    {
      "cell_type": "code",
      "execution_count": null,
      "metadata": {
        "colab": {
          "base_uri": "https://localhost:8080/"
        },
        "id": "9poFEy91mIyO",
        "outputId": "6665962c-2faf-4e87-fec4-cad4486e048d"
      },
      "outputs": [
        {
          "output_type": "stream",
          "name": "stdout",
          "text": [
            "Collecting protobuf==3.19.6\n",
            "\u001b[?25l  Downloading https://files.pythonhosted.org/packages/32/27/1141a8232723dcb10a595cc0ce4321dcbbd5215300bf4acfc142343205bf/protobuf-3.19.6-py2.py3-none-any.whl (162kB)\n",
            "\u001b[K    100% |████████████████████████████████| 163kB 6.5MB/s \n",
            "\u001b[?25hInstalling collected packages: protobuf\n",
            "Successfully installed protobuf-3.19.6\n",
            "Collecting tensorflow==1.14.0\n",
            "\u001b[?25l  Downloading https://files.pythonhosted.org/packages/de/f0/96fb2e0412ae9692dbf400e5b04432885f677ad6241c088ccc5fe7724d69/tensorflow-1.14.0-cp36-cp36m-manylinux1_x86_64.whl (109.2MB)\n",
            "\u001b[K    51% |████████████████▍               | 55.9MB 2.2MB/s eta 0:00:24"
          ]
        }
      ],
      "source": [
        "# usar python3.6 y su pip para instalar tensorflow v1.15.4\n",
        "!export PYENV_ROOT=\"$HOME/.pyenv\" && export PATH=\"$PYENV_ROOT/bin:$PATH\" && eval \"$(pyenv init --path)\" && pip install protobuf==3.19.6\n",
        "!export PYENV_ROOT=\"$HOME/.pyenv\" && export PATH=\"$PYENV_ROOT/bin:$PATH\" && eval \"$(pyenv init --path)\" && python3.6 -m pip install tensorflow==1.14.0"
      ]
    },
    {
      "cell_type": "code",
      "execution_count": null,
      "metadata": {
        "id": "cRoW9mOYlf2W"
      },
      "outputs": [],
      "source": [
        "# descargar archivos desde Project Gutenberg\n",
        "# esta es la lista de los más populares https://gutenberg.org/ebooks/search/?sort_order=downloads\n",
        "# para este ejemplo bajamos el quijote\n",
        "\n",
        "! wget -O quijote.txt https://gutenberg.org/files/2000/2000-0.txt\n",
        "# ! wget -O sherlock.txt https://gutenberg.org/files/1661/1661-0.txt\n",
        "# ! wget -O frankenstein.txt https://gutenberg.org/files/84/84-0.txt\n",
        "# ! wget -O prideAndPrejudice.txt https://gutenberg.org/files/1342/1342-0.txt\n",
        "# ! wget -O aliceInWonderland.txt https://gutenberg.org/files/11/11-0.txt\n",
        "# ! wget -O dracula.txt https://gutenberg.org/files/345/345-0.txt\n",
        "# ! wget -O mobyDick.txt https://gutenberg.org/files/2701/2701-0.txt\n",
        "# ! wget -O greatGatsby.txt https://gutenberg.org/ebooks/64317.txt.utf-8\n",
        "# ! wget -O metamorphosis.txt https://gutenberg.org/files/5200/5200-0.txt\n",
        "# ! wget -O iliad.txt https://gutenberg.org/files/6130/6130-0.txt\n",
        "# ! wget -O wutheringHeights.txt https://gutenberg.org/files/768/768-0.txt\n",
        "# ! wget -O mysteriousAffair.txt https://gutenberg.org/ebooks/863"
      ]
    },
    {
      "cell_type": "code",
      "execution_count": null,
      "metadata": {
        "colab": {
          "background_save": true
        },
        "id": "ZvuoU3j9li4k"
      },
      "outputs": [],
      "source": [
        "# entrenar con archivo quijote.txt\n",
        "!export PYENV_ROOT=\"$HOME/.pyenv\" && export PATH=\"$PYENV_ROOT/bin:$PATH\" && eval \"$(pyenv init --path)\" && python train.py --data_path ./quijote.txt"
      ]
    },
    {
      "cell_type": "code",
      "execution_count": null,
      "metadata": {
        "id": "oVJ1_7E1sfVY"
      },
      "outputs": [],
      "source": [
        "# comprimir modelo en .zip\n",
        "!zip -r ./modelo.zip ./models/quijote\n",
        "# refrescar disco duro, click derecho en modelo.zip y descargar\n",
        "# después recomiendo borrar el archivo, por si repetimos este paso con otro corpus"
      ]
    }
  ],
  "metadata": {
    "colab": {
      "provenance": [],
      "authorship_tag": "ABX9TyNK/G6b2Uc0vf8WQeBiyZgn",
      "include_colab_link": true
    },
    "kernelspec": {
      "display_name": "Python 3",
      "name": "python3"
    },
    "language_info": {
      "name": "python"
    }
  },
  "nbformat": 4,
  "nbformat_minor": 0
}